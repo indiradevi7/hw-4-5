{
 "cells": [
  {
   "cell_type": "markdown",
   "id": "af72b2c3",
   "metadata": {},
   "source": [
    "# 4.1array.py"
   ]
  },
  {
   "cell_type": "code",
   "execution_count": 1,
   "id": "886578d6",
   "metadata": {},
   "outputs": [],
   "source": [
    "\"\"\"\n",
    "File: arrays.py\n",
    "An Array is like a list, but the client can use only [], len, iter, and str.\n",
    "To instantiate, use\n",
    "<variable> = Array(<capacity>, <optional fill value>)\n",
    "The fill value is None by default. \"\"\"\n",
    "class Array(object):\n",
    "    \"\"\"Represents an array.\"\"\"\n",
    "    def __init__(self, capacity, fillValue=None):\n",
    "        \"\"\"Capacity is the static size of the array. fillValue is placed at each position.\"\"\"\n",
    "        self._items = list()\n",
    "\n",
    "        for count in range(capacity): self._items.append(fillValue)\n",
    "    def __len__(self):\n",
    "        \"\"\"-> The capacity of the array.\"\"\" \n",
    "        return len(self._items)\n",
    "    def __str__(self):\n",
    "        \"\"\"-> The string representation of the array.\"\"\" \n",
    "        return str(self._items)\n",
    "    def __iter__(self):\n",
    "        \"\"\"Supports traversal with a for loop.\"\"\" \n",
    "        return iter(self._items)\n",
    "    def __getitem__(self, index):\n",
    "        \"\"\"Subscript operator for access at index.\"\"\" \n",
    "        return self._items[index]\n",
    "    def __setitem__(self, index, newItem):\n",
    "        \"\"\"Subscript operator for replacement at index.\"\"\" \n",
    "        self._items[index] = newItem"
   ]
  },
  {
   "cell_type": "code",
   "execution_count": 2,
   "id": "c557e2dd",
   "metadata": {},
   "outputs": [
    {
     "name": "stdout",
     "output_type": "stream",
     "text": [
      "5\n",
      "1\n",
      "1\n",
      "2\n",
      "3\n",
      "4\n",
      "5\n"
     ]
    }
   ],
   "source": [
    "from array import array\n",
    "\n",
    "a = array('i', [0] * 5)  # Create an array of integers, initialized with zeros\n",
    "print(len(a))  # Output: 5\n",
    "\n",
    "for i in range(len(a)):\n",
    "    a[i] = i + 1\n",
    "\n",
    "print(a[0])  # Output: 1\n",
    "\n",
    "for item in a:\n",
    "    print(item)\n"
   ]
  },
  {
   "cell_type": "code",
   "execution_count": null,
   "id": "f8506a5d",
   "metadata": {},
   "outputs": [],
   "source": []
  }
 ],
 "metadata": {
  "kernelspec": {
   "display_name": "Python 3 (ipykernel)",
   "language": "python",
   "name": "python3"
  },
  "language_info": {
   "codemirror_mode": {
    "name": "ipython",
    "version": 3
   },
   "file_extension": ".py",
   "mimetype": "text/x-python",
   "name": "python",
   "nbconvert_exporter": "python",
   "pygments_lexer": "ipython3",
   "version": "3.11.4"
  }
 },
 "nbformat": 4,
 "nbformat_minor": 5
}
