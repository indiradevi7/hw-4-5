{
 "cells": [
  {
   "cell_type": "markdown",
   "id": "84795ca4",
   "metadata": {},
   "source": [
    "# Operations on Arrays"
   ]
  },
  {
   "cell_type": "code",
   "execution_count": 1,
   "id": "0afb3a97",
   "metadata": {},
   "outputs": [],
   "source": [
    "DEFAULT_CAPACITY = 5\n",
    "logicalSize = 0\n",
    "a = [None] * DEFAULT_CAPACITY\n"
   ]
  },
  {
   "cell_type": "code",
   "execution_count": 2,
   "id": "82533372",
   "metadata": {},
   "outputs": [],
   "source": [
    "if logicalSize == len(a):\n",
    "     temp = Array(len(a) + 1)\n",
    "     for i in range(logicalSize):\n",
    "         temp [i] = a[i]\n",
    "     a = temp"
   ]
  },
  {
   "cell_type": "code",
   "execution_count": 3,
   "id": "69bff2e0",
   "metadata": {},
   "outputs": [],
   "source": [
    "a = [None] * (len(a) * 2)\n"
   ]
  },
  {
   "cell_type": "code",
   "execution_count": 4,
   "id": "7d67eee3",
   "metadata": {},
   "outputs": [],
   "source": [
    "if logicalSize <= len(a) // 4 and len(a) >= DEFAULT_CAPACITY * 2:\n",
    "    temp = a[:len(a) // 2]\n",
    "\n",
    "    for i in range(logicalSize):\n",
    "        temp [i] = a [i] \n",
    "    a = temp"
   ]
  },
  {
   "cell_type": "code",
   "execution_count": 5,
   "id": "02df80fe",
   "metadata": {},
   "outputs": [],
   "source": [
    "targetIndex = 2  # Define the target index\n",
    "newItem = 42  # Define the new item\n",
    "# Increase physical size of array if necessary\n",
    "# Shift items down by one position\n",
    "for i in range(logicalSize, targetIndex, -1):\n",
    "    a[i] = a[i - 1]\n",
    "# Add new item and increment logical size\n",
    "a[targetIndex] = newItem\n",
    "logicalSize += 1\n",
    "\n",
    "\n"
   ]
  },
  {
   "cell_type": "code",
   "execution_count": 6,
   "id": "0d304c93",
   "metadata": {},
   "outputs": [],
   "source": [
    "\n",
    "# Shift items up by one position\n",
    "for i in range(targetIndex, logicalSize - 1):\n",
    "    a[i] = a[i + 1]\n",
    "# Decrement logical size logicalSize -= 1\n",
    "# Decrease size of array if necessary"
   ]
  },
  {
   "cell_type": "code",
   "execution_count": null,
   "id": "1e60b525",
   "metadata": {},
   "outputs": [],
   "source": []
  }
 ],
 "metadata": {
  "kernelspec": {
   "display_name": "Python 3 (ipykernel)",
   "language": "python",
   "name": "python3"
  },
  "language_info": {
   "codemirror_mode": {
    "name": "ipython",
    "version": 3
   },
   "file_extension": ".py",
   "mimetype": "text/x-python",
   "name": "python",
   "nbconvert_exporter": "python",
   "pygments_lexer": "ipython3",
   "version": "3.11.4"
  }
 },
 "nbformat": 4,
 "nbformat_minor": 5
}
