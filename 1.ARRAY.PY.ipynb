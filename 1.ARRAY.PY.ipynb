{
 "cells": [
  {
   "cell_type": "markdown",
   "id": "6fc17ea9",
   "metadata": {},
   "source": [
    "# Array.py"
   ]
  },
  {
   "cell_type": "code",
   "execution_count": 6,
   "id": "a8456f32",
   "metadata": {},
   "outputs": [
    {
     "name": "stdout",
     "output_type": "stream",
     "text": [
      "True\n",
      "True\n",
      "False\n"
     ]
    }
   ],
   "source": [
    "from __future__ import annotations\n",
    "from typing import TypeVar, Iterable, Sequence, Generic, List, Callable, Set\n",
    "from typing_extensions import Protocol\n",
    "from heapq import heappush, heappop\n",
    "\n",
    "T = TypeVar('T')\n",
    "\n",
    "def linear_contains(iterable: Iterable[T]):\n",
    "    # Rest of the function implementation\n",
    "    for item in iterable:\n",
    "        if item == key:\n",
    "            return True\n",
    "    return False\n",
    "\n",
    "C = TypeVar(\"C\", bound=\"Comparable\")\n",
    "\n",
    "class Comparable(Protocol):\n",
    "    def __lt__(self, other: C) -> bool:\n",
    "        pass\n",
    "\n",
    "    def __gt__(self, other: C) -> bool:\n",
    "        pass\n",
    "\n",
    "class MyClass(Comparable):\n",
    "    def __init__(self, some_attribute):\n",
    "        self.some_attribute = some_attribute\n",
    "\n",
    "    def __lt__(self, other):\n",
    "        return self.some_attribute < other.some_attribute\n",
    "\n",
    "    def __gt__(self, other):\n",
    "        return self.some_attribute > other.some_attribute\n",
    "\n",
    "def binary_contains(sequence: Sequence[C], key: C) -> bool:\n",
    "    low: int = 0\n",
    "    high: int = len(sequence) - 1\n",
    "    while low <= high:\n",
    "        mid: int = (low + high) // 2\n",
    "        if sequence[mid] < key:\n",
    "            low = mid + 1\n",
    "        elif sequence[mid] > key:\n",
    "            high = mid - 1\n",
    "        else:\n",
    "            return True\n",
    "    return False\n",
    "def linear_contains(iterable: Iterable[T], key: T) -> bool:\n",
    "    for item in iterable:\n",
    "        if item == key:\n",
    "            return True\n",
    "    return False\n",
    "\n",
    "if __name__ == \"__main__\":\n",
    "    print(linear_contains([1, 5, 15, 15, 15, 15, 20], 5))  # True\n",
    "    print(binary_contains([\"a\", \"d\", \"e\", \"f\", \"z\"], \"f\"))  # True\n",
    "    print(binary_contains([\"john\", \"mark\", \"ronald\", \"sarah\"], \"sheila\"))  # False\n"
   ]
  },
  {
   "cell_type": "code",
   "execution_count": null,
   "id": "4707265d",
   "metadata": {},
   "outputs": [],
   "source": []
  }
 ],
 "metadata": {
  "kernelspec": {
   "display_name": "Python 3 (ipykernel)",
   "language": "python",
   "name": "python3"
  },
  "language_info": {
   "codemirror_mode": {
    "name": "ipython",
    "version": 3
   },
   "file_extension": ".py",
   "mimetype": "text/x-python",
   "name": "python",
   "nbconvert_exporter": "python",
   "pygments_lexer": "ipython3",
   "version": "3.11.4"
  }
 },
 "nbformat": 4,
 "nbformat_minor": 5
}
