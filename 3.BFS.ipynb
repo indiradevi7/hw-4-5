{
 "cells": [
  {
   "cell_type": "markdown",
   "id": "ca156ff0",
   "metadata": {},
   "source": [
    "# BFS"
   ]
  },
  {
   "cell_type": "code",
   "execution_count": 5,
   "id": "882d4f75",
   "metadata": {},
   "outputs": [],
   "source": [
    "from typing import Generic, TypeVar, Deque\n",
    "from collections import deque\n",
    "\n",
    "T = TypeVar('T')\n",
    "\n",
    "class Queue(Generic[T]):\n",
    "    def __init__(self) -> None:\n",
    "        self._container: Deque[T] = deque()\n",
    "\n",
    "# Rest of your code\n",
    "\n",
    "    @property\n",
    "    def empty(self) -> bool:\n",
    "        return not self._container # not is true for empty container \n",
    "    def push(self, item: T) -> None:\n",
    "        self._container.append(item) \n",
    "    def pop(self) -> T:\n",
    "        return self._container.popleft() # FIFO \n",
    "    def repr (self) -> str:\n",
    "        return repr(self._container)"
   ]
  },
  {
   "cell_type": "code",
   "execution_count": 15,
   "id": "5bcbaf63",
   "metadata": {},
   "outputs": [],
   "source": [
    "from typing import TypeVar, Optional, Callable, List\n",
    "from collections import deque\n",
    "\n",
    "T = TypeVar('T')\n",
    "\n",
    "class Node:\n",
    "    def __init__(self, state: T, parent: Optional['Node'] = None) -> None:\n",
    "        self.state: T = state\n",
    "        self.parent: Optional['Node'] = parent\n",
    "\n",
    "def bfs(initial: T, goal_test: Callable[[T], bool], successors: Callable[[T], List[T]]) -> Optional[Node]:\n",
    "    # frontier is where we've yet to go\n",
    "    frontier: deque[Node] = deque()\n",
    "    frontier.append(Node(initial, None))\n",
    "    # explored is where we've been\n",
    "    explored: Set[T] = {initial}\n",
    "    # keep going while there is more to explore\n",
    "    while frontier:\n",
    "        current_node: Node = frontier.popleft()\n",
    "        current_state: T = current_node.state\n",
    "        # if we found the goal, we're done\n",
    "        if goal_test(current_state):\n",
    "            return current_node\n",
    "        # check where we can go next and haven't explored\n",
    "        for child in successors(current_state):\n",
    "            if child in explored:  # skip children we already explored\n",
    "                continue\n",
    "            explored.add(child)\n",
    "            frontier.append(Node(child, current_node))\n",
    "    return None  # went through everything and never found goal\n"
   ]
  },
  {
   "cell_type": "code",
   "execution_count": 39,
   "id": "b56f36dd",
   "metadata": {
    "scrolled": true
   },
   "outputs": [
    {
     "name": "stdout",
     "output_type": "stream",
     "text": [
      "No solution found using breadth-first search!\n"
     ]
    }
   ],
   "source": [
    "from typing import Optional, List\n",
    "\n",
    "from typing import TypeVar, Generic\n",
    "\n",
    "T = TypeVar('T')\n",
    "\n",
    "class Node(Generic[T]):\n",
    "    def __init__(self, state: T, parent: Optional['Node[T]'] = None):\n",
    "        self.state = state\n",
    "        self.parent = parent\n",
    "\n",
    "\n",
    "# Test BFS\n",
    "solution2: Optional[Node[MazeLocation]] = bfs(m.start, m.goal_test, m.successors)\n",
    "\n",
    "if solution2 is None:\n",
    "    print(\"No solution found using breadth-first search!\")\n",
    "else:\n",
    "    path2: List[MazeLocation] = node_to_path(solution2)\n",
    "    m.mark(path2)\n",
    "    print(m)\n",
    "    m.clear(path2)\n",
    "\n",
    "\n"
   ]
  },
  {
   "cell_type": "code",
   "execution_count": null,
   "id": "c31e9be0",
   "metadata": {},
   "outputs": [],
   "source": []
  },
  {
   "cell_type": "code",
   "execution_count": null,
   "id": "c3d48d7e",
   "metadata": {},
   "outputs": [],
   "source": []
  }
 ],
 "metadata": {
  "kernelspec": {
   "display_name": "Python 3 (ipykernel)",
   "language": "python",
   "name": "python3"
  },
  "language_info": {
   "codemirror_mode": {
    "name": "ipython",
    "version": 3
   },
   "file_extension": ".py",
   "mimetype": "text/x-python",
   "name": "python",
   "nbconvert_exporter": "python",
   "pygments_lexer": "ipython3",
   "version": "3.11.4"
  }
 },
 "nbformat": 4,
 "nbformat_minor": 5
}
