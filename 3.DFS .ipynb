{
 "cells": [
  {
   "cell_type": "markdown",
   "id": "eec538be",
   "metadata": {},
   "source": [
    "# dfs"
   ]
  },
  {
   "cell_type": "code",
   "execution_count": 1,
   "id": "e74c96c2",
   "metadata": {},
   "outputs": [],
   "source": [
    "from typing import Generic, TypeVar, List\n",
    "\n",
    "T = TypeVar('T')\n",
    "\n",
    "class Stack(Generic[T]):\n",
    "    def __init__(self) -> None:\n",
    "        self._container: List[T] = []\n",
    "\n",
    "    @property\n",
    "    def empty(self) -> bool:\n",
    "        return not self._container # not is true for empty container \n",
    "    def push(self, item: T) -> None:\n",
    "        self._container.append(item) \n",
    "    def pop(self) -> T:\n",
    "        return self._container.pop() # LIFO\n",
    "    def repr (self) -> str: \n",
    "        return repr(self._container)"
   ]
  },
  {
   "cell_type": "code",
   "execution_count": 2,
   "id": "639cceaa",
   "metadata": {},
   "outputs": [],
   "source": [
    "from typing import TypeVar, Optional\n",
    "\n",
    "T = TypeVar('T')\n",
    "\n",
    "class Node:\n",
    "    def __init__(self, state: T, parent: Optional['Node'] = None, cost: float = 0.0, heuristic: float = 0.0) -> None:\n",
    "        self.state: T = state\n",
    "        self.parent: Optional['Node'] = parent\n",
    "        self.cost: float = cost\n",
    "        self.heuristic: float = heuristic\n",
    "\n",
    "    def lt(self, other: 'Node') -> bool:\n",
    "        return (self.cost + self.heuristic) < (other.cost + other.heuristic)\n",
    "\n",
    "\n"
   ]
  },
  {
   "cell_type": "code",
   "execution_count": 3,
   "id": "6101d494",
   "metadata": {},
   "outputs": [],
   "source": [
    "from typing import Callable, List, Optional\n",
    "\n",
    "def dfs(initial: T, goal_test: Callable[[T], bool], successors: Callable[[T], List[T]]) -> Optional[Node]:\n",
    "    # frontier is where we've yet to go\n",
    "    frontier: Stack[Node] = Stack()\n",
    "    frontier.push(Node(initial, None))\n",
    "\n",
    "    # explored is where we've been\n",
    "    explored: Set[T] = {initial}\n",
    "\n",
    "    # keep going while there is more to explore\n",
    "    while not frontier.is_empty():\n",
    "        current_node: Node = frontier.pop()\n",
    "        current_state: T = current_node.state\n",
    "\n",
    "        # if we found the goal, we're done\n",
    "        if goal_test(current_state):\n",
    "            return current_node\n",
    "\n",
    "        # check where we can go next and haven't explored\n",
    "        for child in successors(current_state):\n",
    "            if child in explored:\n",
    "                continue\n",
    "            explored.add(child)\n",
    "            frontier.push(Node(child, current_node))\n",
    "\n",
    "    # no path found\n",
    "    return None\n",
    "\n"
   ]
  },
  {
   "cell_type": "code",
   "execution_count": 4,
   "id": "6f6bf7d0",
   "metadata": {},
   "outputs": [],
   "source": [
    "def node_to_path(node):\n",
    "    path = [node.state]\n",
    "\n",
    "    while node.parent is not None:\n",
    "        node = node.parent\n",
    "        path.append(node.state)\n",
    "\n",
    "    path.reverse()\n",
    "    return path\n",
    "\n"
   ]
  },
  {
   "cell_type": "code",
   "execution_count": 5,
   "id": "0ebb94d1",
   "metadata": {},
   "outputs": [],
   "source": [
    "class MazeLocation:\n",
    "    def __init__(self, row: int, column: int):\n",
    "        self.row = row\n",
    "        self.column = column\n",
    "\n",
    "def mark(self, path: List[MazeLocation]): \n",
    "    for maze_location in path:\n",
    "        self._grid[maze_location.row][maze_location.column] = Cell.PATH \n",
    "        self._grid[self.start.row][self.start.column] = Cell.START \n",
    "        self._grid[self.goal.row][self.goal.column] = Cell.GOAL\n",
    "def clear(self, path: List[MazeLocation]):\n",
    "    for maze_location in path:\n",
    "        self._grid[maze_location.row][maze_location.column] = Cell.EMPTY\n",
    "    self._grid[self.start.row][self.start.column] = Cell.START\n",
    "    self._grid[self.goal.row][self.goal.column] = Cell.GOAL\n"
   ]
  },
  {
   "cell_type": "code",
   "execution_count": 6,
   "id": "7e2562ee",
   "metadata": {},
   "outputs": [],
   "source": [
    "from typing import List\n",
    "\n",
    "T = TypeVar('T')\n",
    "\n",
    "class Stack(Generic[T]):\n",
    "    def __init__(self):\n",
    "        self._container: List[T] = []\n",
    "\n",
    "    def push(self, item: T) -> None:\n",
    "        self._container.append(item)\n",
    "\n",
    "    def pop(self) -> T:\n",
    "        return self._container.pop()\n",
    "\n",
    "    def is_empty(self) -> bool:\n",
    "        return len(self._container) == 0\n",
    "\n"
   ]
  },
  {
   "cell_type": "code",
   "execution_count": null,
   "id": "66c276d4",
   "metadata": {},
   "outputs": [],
   "source": []
  }
 ],
 "metadata": {
  "kernelspec": {
   "display_name": "Python 3 (ipykernel)",
   "language": "python",
   "name": "python3"
  },
  "language_info": {
   "codemirror_mode": {
    "name": "ipython",
    "version": 3
   },
   "file_extension": ".py",
   "mimetype": "text/x-python",
   "name": "python",
   "nbconvert_exporter": "python",
   "pygments_lexer": "ipython3",
   "version": "3.11.4"
  }
 },
 "nbformat": 4,
 "nbformat_minor": 5
}
