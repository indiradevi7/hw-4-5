{
 "cells": [
  {
   "cell_type": "code",
   "execution_count": 2,
   "id": "4466cfe3",
   "metadata": {},
   "outputs": [],
   "source": [
    "class Grid(object):\n",
    "    \"\"\"Represents a two-dimensional array.\"\"\"\n",
    "\n",
    "    def __init__(self, rows, columns, fillValue=None):\n",
    "        self._data = [[fillValue] * columns for _ in range(rows)]\n",
    "\n",
    "    def getHeight(self):\n",
    "        \"\"\"Returns the number of rows.\"\"\"\n",
    "        return len(self._data)\n",
    "\n",
    "    def getWidth(self):\n",
    "        \"\"\"Returns the number of columns.\"\"\"\n",
    "        return len(self._data[0])\n",
    "\n",
    "    def __getitem__(self, index):\n",
    "        \"\"\"Supports two-dimensional indexing with [row][column].\"\"\"\n",
    "        return self._data[index]\n",
    "\n",
    "    def __str__(self):\n",
    "        \"\"\"Returns a string representation of the grid.\"\"\"\n",
    "        result = \"\"\n",
    "        for row in range(self.getHeight()):\n",
    "            for col in range(self.getWidth()):\n",
    "                result += str(self._data[row][col]) + \" \"\n",
    "            result += \"\\n\"\n",
    "        return result\n"
   ]
  },
  {
   "cell_type": "code",
   "execution_count": null,
   "id": "cfb60165",
   "metadata": {},
   "outputs": [],
   "source": []
  }
 ],
 "metadata": {
  "kernelspec": {
   "display_name": "Python 3 (ipykernel)",
   "language": "python",
   "name": "python3"
  },
  "language_info": {
   "codemirror_mode": {
    "name": "ipython",
    "version": 3
   },
   "file_extension": ".py",
   "mimetype": "text/x-python",
   "name": "python",
   "nbconvert_exporter": "python",
   "pygments_lexer": "ipython3",
   "version": "3.11.4"
  }
 },
 "nbformat": 4,
 "nbformat_minor": 5
}
